{
 "cells": [
  {
   "cell_type": "markdown",
   "metadata": {},
   "source": [
    "# question 1"
   ]
  },
  {
   "cell_type": "code",
   "execution_count": 19,
   "metadata": {},
   "outputs": [
    {
     "name": "stdout",
     "output_type": "stream",
     "text": [
      "        name  score  attempts qualify\n",
      "0  Anastasia   12.5         1     yes\n",
      "1       Dima    9.0         3      no\n",
      "2  Katherine   16.5         2     yes\n",
      "3      James    NaN         3      no\n",
      "4      Emily    9.0         2      no\n",
      "5    Michael   20.0         3     yes\n",
      "6    Matthew   14.5         1     yes\n",
      "7      Laura    NaN         1      no\n",
      "8      Kevin    8.0         2      no\n",
      "9      Jonas   19.0         1     yes\n",
      "        name  score  attempts qualify\n",
      "0  Anastasia   12.5         1     yes\n",
      "1       Dima    9.0         3      no\n",
      "2  Katherine   16.5         2     yes\n",
      "        name  score  attempts qualify\n",
      "0  Anastasia   12.5         1     yes\n",
      "1       Dima    9.0         3      no\n",
      "2  Katherine   16.5         2     yes\n",
      "3      James    NaN         3      no\n",
      "4      Emily    9.0         2      no\n",
      "5    Michael   20.0         3     yes\n",
      "6    Matthew   14.5         1     yes\n",
      "7      Laura    NaN         1      no\n",
      "8      Kevin    8.0         2      no\n",
      "9      Jonas   19.0         1     yes\n",
      "        name  score\n",
      "0  Anastasia   12.5\n",
      "1       Dima    9.0\n",
      "2  Katherine   16.5\n",
      "3      James    NaN\n",
      "4      Emily    9.0\n",
      "5    Michael   20.0\n",
      "6    Matthew   14.5\n",
      "7      Laura    NaN\n",
      "8      Kevin    8.0\n",
      "9      Jonas   19.0\n",
      "{'name': 'suresh', 'score': 15.5, 'attempts': 1, 'qualify': 'yes'}\n",
      "        name  score qualify\n",
      "0  Anastasia   12.5     yes\n",
      "1       Dima    9.0      no\n",
      "2  Katherine   16.5     yes\n",
      "3      James    NaN      no\n",
      "4      Emily    9.0      no\n",
      "5    Michael   20.0     yes\n",
      "6    Matthew   14.5     yes\n",
      "7      Laura    NaN      no\n",
      "8      Kevin    8.0      no\n",
      "9      Jonas   19.0     yes\n",
      "[1, 0, 1, 0, 0, 1, 1, 0, 0, 1]\n",
      "        name  score  attempts qualify  success\n",
      "0  Anastasia   12.5         1     yes        1\n",
      "1       Dima    9.0         3      no        0\n",
      "2  Katherine   16.5         2     yes        1\n",
      "3      James    NaN         3      no        0\n",
      "4      Emily    9.0         2      no        0\n",
      "5    Michael   20.0         3     yes        1\n",
      "6    Matthew   14.5         1     yes        1\n",
      "7      Laura    NaN         1      no        0\n",
      "8      Kevin    8.0         2      no        0\n",
      "9      Jonas   19.0         1     yes        1\n"
     ]
    }
   ],
   "source": [
    "import pandas as pd\n",
    "import numpy as np\n",
    "exam_data = {'name': ['Anastasia', 'Dima', 'Katherine', 'James', 'Emily', 'Michael', 'Matthew', 'Laura', 'Kevin', 'Jonas'],\n",
    "'score': [12.5, 9, 16.5, np.nan, 9, 20, 14.5, np.nan, 8, 19],\n",
    "'attempts': [1, 3, 2, 3, 2, 3, 1, 1, 2, 1],\n",
    "'qualify': ['yes', 'no', 'yes', 'no', 'no', 'yes', 'yes', 'no', 'no', 'yes']}\n",
    "labels = ['a', 'b', 'c', 'd', 'e', 'f', 'g', 'h', 'i', 'j']\n",
    "df= pd.DataFrame(exam_data,columns=['name','score','attempts','qualify'])\n",
    "print(df)\n",
    "n=3\n",
    "top_3= df.head(n)\n",
    "print(top_3)\n",
    "df_2=df.dropna()\n",
    "df_2=df.reset_index(drop=True)\n",
    "print(df_2)\n",
    "N_S=df_2.iloc[:, 0:2]\n",
    "print(N_S)\n",
    "new_player={\"name\":\"suresh\",\"score\":15.5,\"attempts\":1,\"qualify\":\"yes\"}\n",
    "print(new_player)\n",
    "df.append(new_player,ignore_index=True)\n",
    "df_3=df.drop(\"attempts\",axis=1)\n",
    "print(df_3)\n",
    "success=[]\n",
    "for x in exam_data['score']: \n",
    "    if x>10:\n",
    "        success.append(1)\n",
    "    else: success.append(0)\n",
    "print(success)\n",
    "df[\"success\"]=success\n",
    "print(df)\n",
    "        \n",
    "        "
   ]
  },
  {
   "cell_type": "code",
   "execution_count": null,
   "metadata": {},
   "outputs": [],
   "source": []
  }
 ],
 "metadata": {
  "kernelspec": {
   "display_name": "Python 3",
   "language": "python",
   "name": "python3"
  },
  "language_info": {
   "codemirror_mode": {
    "name": "ipython",
    "version": 3
   },
   "file_extension": ".py",
   "mimetype": "text/x-python",
   "name": "python",
   "nbconvert_exporter": "python",
   "pygments_lexer": "ipython3",
   "version": "3.8.3"
  }
 },
 "nbformat": 4,
 "nbformat_minor": 4
}
