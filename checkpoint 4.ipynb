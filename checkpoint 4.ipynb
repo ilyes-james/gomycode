{
 "cells": [
  {
   "cell_type": "markdown",
   "metadata": {},
   "source": [
    "#Q1"
   ]
  },
  {
   "cell_type": "code",
   "execution_count": 29,
   "metadata": {},
   "outputs": [
    {
     "name": "stdout",
     "output_type": "stream",
     "text": [
      "15\n"
     ]
    }
   ],
   "source": [
    "def max_of_two(a,b):\n",
    "    if a>b:\n",
    "        return a\n",
    "    else:\n",
    "        return b\n",
    "def max_of_three(a,b,c):\n",
    "    return max_of_two(a,max_of_two(b,c))\n",
    "print(max_of_three(4,9,15))"
   ]
  },
  {
   "cell_type": "markdown",
   "metadata": {},
   "source": [
    "#Q2\n"
   ]
  },
  {
   "cell_type": "code",
   "execution_count": 47,
   "metadata": {
    "scrolled": true
   },
   "outputs": [
    {
     "name": "stdout",
     "output_type": "stream",
     "text": [
      "301.25\n",
      "39200\n",
      "6\n",
      "k: 198.75\n",
      "j: 38612.0\n"
     ]
    }
   ],
   "source": [
    "sum= lambda a,b,c : a+b+c\n",
    "my_list=[4,198.75,98.5]\n",
    "print(sum(4,198.75,98.5))\n",
    "def multiply_list(my_list):\n",
    "    result=1\n",
    "    for x in my_list:\n",
    "         result=x*result\n",
    "    return result\n",
    "List1=[4,98,100]\n",
    "print (multiply_list(List1))\n",
    "last_list=my_list+List1\n",
    "print(len(last_list))\n",
    "even=0\n",
    "for i in range(1,len(last_list),2):\n",
    "    even_1=even+last_list[1]\n",
    "print('k:', even_1)\n",
    "result=1\n",
    "for i in range(0,len(last_list),2):\n",
    "    result=result*last_list[i]\n",
    "print ('j:',result)"
   ]
  },
  {
   "cell_type": "markdown",
   "metadata": {},
   "source": [
    "#Q3\n"
   ]
  },
  {
   "cell_type": "code",
   "execution_count": 31,
   "metadata": {},
   "outputs": [
    {
     "data": {
      "text/plain": [
       "['black', 'green', 'red', 'white', 'yellow']"
      ]
     },
     "execution_count": 31,
     "metadata": {},
     "output_type": "execute_result"
    }
   ],
   "source": [
    "my_list=[\"green\",\"red\",\"yellow\",\"black\",\"white\"]\n",
    "sorted(my_list, key=str.lower)"
   ]
  },
  {
   "cell_type": "code",
   "execution_count": null,
   "metadata": {},
   "outputs": [],
   "source": []
  },
  {
   "cell_type": "code",
   "execution_count": null,
   "metadata": {},
   "outputs": [],
   "source": []
  }
 ],
 "metadata": {
  "kernelspec": {
   "display_name": "Python 3",
   "language": "python",
   "name": "python3"
  },
  "language_info": {
   "codemirror_mode": {
    "name": "ipython",
    "version": 3
   },
   "file_extension": ".py",
   "mimetype": "text/x-python",
   "name": "python",
   "nbconvert_exporter": "python",
   "pygments_lexer": "ipython3",
   "version": "3.8.3"
  }
 },
 "nbformat": 4,
 "nbformat_minor": 4
}
