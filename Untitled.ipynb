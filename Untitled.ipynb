{
 "cells": [
  {
   "cell_type": "markdown",
   "id": "13f4a1c4",
   "metadata": {},
   "source": [
    "#question 1"
   ]
  },
  {
   "cell_type": "code",
   "execution_count": 3,
   "id": "38aa2ab6",
   "metadata": {},
   "outputs": [
    {
     "name": "stdout",
     "output_type": "stream",
     "text": [
      "[2002, 2009, 2016, 2023, 2037, 2044, 2051, 2058, 2072, 2079, 2086, 2093, 2107, 2114, 2121, 2128, 2142, 2149, 2156, 2163, 2177, 2184, 2191, 2198, 2212, 2219, 2226, 2233, 2247, 2254, 2261, 2268, 2282, 2289, 2296, 2303, 2317, 2324, 2331, 2338, 2352, 2359, 2366, 2373, 2387, 2394, 2401, 2408, 2422, 2429, 2436, 2443, 2457, 2464, 2471, 2478, 2492, 2499, 2506, 2513, 2527, 2534, 2541, 2548, 2562, 2569, 2576, 2583, 2597, 2604, 2611, 2618, 2632, 2639, 2646, 2653, 2667, 2674, 2681, 2688, 2702, 2709, 2716, 2723, 2737, 2744, 2751, 2758, 2772, 2779, 2786, 2793, 2807, 2814, 2821, 2828, 2842, 2849, 2856, 2863, 2877, 2884, 2891, 2898, 2912, 2919, 2926, 2933, 2947, 2954, 2961, 2968, 2982, 2989, 2996, 3003, 3017, 3024, 3031, 3038, 3052, 3059, 3066, 3073, 3087, 3094, 3101, 3108, 3122, 3129, 3136, 3143, 3157, 3164, 3171, 3178, 3192, 3199]\n"
     ]
    }
   ],
   "source": [
    "my_list=[]\n",
    "for i in range(2000,3201):\n",
    "    if i%7==0 and i%5!=0:\n",
    "        my_list.append(i)\n",
    "print(my_list)"
   ]
  },
  {
   "cell_type": "markdown",
   "id": "0ae32ef5",
   "metadata": {},
   "source": [
    "#question 2"
   ]
  },
  {
   "cell_type": "code",
   "execution_count": 25,
   "id": "609817c5",
   "metadata": {},
   "outputs": [
    {
     "name": "stdout",
     "output_type": "stream",
     "text": [
      "entrer un entier5\n",
      "5 != 120\n"
     ]
    }
   ],
   "source": [
    "def factorielle(n):\n",
    "    if n<2:\n",
    "        return 1\n",
    "    else: return n*factorielle(n-1)\n",
    "x=int(input(\"entrer un entier\"))\n",
    "print(x,\"!=\",factorielle(x))\n",
    "    "
   ]
  },
  {
   "cell_type": "markdown",
   "id": "fb508d02",
   "metadata": {},
   "source": [
    "#question 3"
   ]
  },
  {
   "cell_type": "code",
   "execution_count": 26,
   "id": "b8b3bf08",
   "metadata": {},
   "outputs": [
    {
     "name": "stdout",
     "output_type": "stream",
     "text": [
      "2\n",
      "{1: 1, 2: 4}\n"
     ]
    }
   ],
   "source": [
    "n=int(input())\n",
    "my_dictionary={}\n",
    "for i in range(1,n+1):\n",
    "        my_dictionary[i]=i*i\n",
    "print(my_dictionary)"
   ]
  },
  {
   "cell_type": "markdown",
   "id": "83c7ca0a",
   "metadata": {},
   "source": [
    "#question 4"
   ]
  },
  {
   "cell_type": "code",
   "execution_count": null,
   "id": "3cfde161",
   "metadata": {
    "scrolled": true
   },
   "outputs": [],
   "source": [
    "from random import randint\n",
    "char=str(input(\"enter une chaine\"))\n",
    "print(len(char))\n",
    "n=len(char)+1\n",
    "while n>=len(char):\n",
    "    n=int(input(\"donner un entier\"))\n",
    "    print(\"la variable est\",n)\n",
    "    char=char[:n-1]+char[n:]\n",
    "    print(char)"
   ]
  },
  {
   "cell_type": "markdown",
   "id": "c020c560",
   "metadata": {},
   "source": [
    "#question 5"
   ]
  },
  {
   "cell_type": "code",
   "execution_count": 1,
   "id": "b3fc986f",
   "metadata": {},
   "outputs": [
    {
     "name": "stdout",
     "output_type": "stream",
     "text": [
      "[[0 1]\n",
      " [2 3]\n",
      " [4 5]]\n",
      "[[0, 1], [2, 3], [4, 5]]\n"
     ]
    }
   ],
   "source": [
    "import numpy as np\n",
    "ar_1=np.array([[0,1],[2,3],[4,5]])\n",
    "print(ar_1)\n",
    "list_1=ar_1.tolist()\n",
    "print(list_1)"
   ]
  },
  {
   "cell_type": "markdown",
   "id": "ca25ddec",
   "metadata": {},
   "source": [
    "#question 6"
   ]
  },
  {
   "cell_type": "code",
   "execution_count": 11,
   "id": "2a5584de",
   "metadata": {},
   "outputs": [
    {
     "name": "stdout",
     "output_type": "stream",
     "text": [
      "[0 1 2]\n",
      "[[ 1. -1.]\n",
      " [-1.  1.]]\n"
     ]
    }
   ],
   "source": [
    "import numpy as np\n",
    "original_array1=np.array([0,1,2])\n",
    "original_array2=np.array([2,1,0])\n",
    "print(original_array1)\n",
    "cov=np.cov(original_array1,original_array2)\n",
    "print(cov)"
   ]
  },
  {
   "cell_type": "markdown",
   "id": "1b093171",
   "metadata": {},
   "source": [
    "#question 7"
   ]
  },
  {
   "cell_type": "code",
   "execution_count": 24,
   "id": "3459e451",
   "metadata": {},
   "outputs": [
    {
     "name": "stdout",
     "output_type": "stream",
     "text": [
      "entrer un entier12\n",
      "entrer un entier14\n",
      "entrer un entier15\n",
      "['12', '14', '15']\n",
      "6\n",
      "7\n",
      "7\n"
     ]
    }
   ],
   "source": [
    "from math import sqrt\n",
    "c=50\n",
    "h=30\n",
    "d=[]\n",
    "for i in range(3):\n",
    "    x=input(\"entrer un entier\")\n",
    "    d.append(x)\n",
    "print(d)\n",
    "for j in d:\n",
    "    j=int(j)\n",
    "    q=sqrt((2*c*j)/h)\n",
    "    Q=round(q)\n",
    "    print(Q)"
   ]
  },
  {
   "cell_type": "code",
   "execution_count": null,
   "id": "c48c851c",
   "metadata": {},
   "outputs": [],
   "source": []
  }
 ],
 "metadata": {
  "kernelspec": {
   "display_name": "Python 3 (ipykernel)",
   "language": "python",
   "name": "python3"
  },
  "language_info": {
   "codemirror_mode": {
    "name": "ipython",
    "version": 3
   },
   "file_extension": ".py",
   "mimetype": "text/x-python",
   "name": "python",
   "nbconvert_exporter": "python",
   "pygments_lexer": "ipython3",
   "version": "3.9.7"
  }
 },
 "nbformat": 4,
 "nbformat_minor": 5
}
