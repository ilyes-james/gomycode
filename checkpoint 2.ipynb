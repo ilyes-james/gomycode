{
 "cells": [
  {
   "cell_type": "code",
   "execution_count": 4,
   "metadata": {},
   "outputs": [
    {
     "name": "stdout",
     "output_type": "stream",
     "text": [
      "first nameilyes\n",
      "last namejammouci\n",
      "jammouci ilyes\n"
     ]
    }
   ],
   "source": [
    "f= input(\"first name\")\n",
    "l= input(\"last name\")\n",
    "print (l+\" \" +f)\n"
   ]
  },
  {
   "cell_type": "code",
   "execution_count": 5,
   "metadata": {},
   "outputs": [
    {
     "name": "stdout",
     "output_type": "stream",
     "text": [
      "insert a number5\n",
      "615\n"
     ]
    }
   ],
   "source": [
    "n =int(input(\"insert a number\"))\n",
    "a =(n*11)\n",
    "z =(n*111)\n",
    "print (n + a +z)"
   ]
  },
  {
   "cell_type": "code",
   "execution_count": 6,
   "metadata": {},
   "outputs": [
    {
     "name": "stdout",
     "output_type": "stream",
     "text": [
      "6\n",
      "6 is even\n"
     ]
    }
   ],
   "source": [
    "n= int(input(\"\"))\n",
    "if n%2==0:\n",
    "    print (n,\"is even\")\n",
    "else:\n",
    "    print (n,\"is odd\")"
   ]
  },
  {
   "cell_type": "code",
   "execution_count": 12,
   "metadata": {},
   "outputs": [
    {
     "name": "stdout",
     "output_type": "stream",
     "text": [
      "enter an year2004\n",
      "this is a leap year\n"
     ]
    }
   ],
   "source": [
    "n=int(input(\"enter an year\"))\n",
    "if n%4==0 and n%100!=0:\n",
    " print (\"this is a leap year\")\n",
    "else: \n",
    " print (\"this is not a leap year\")"
   ]
  },
  {
   "cell_type": "code",
   "execution_count": null,
   "metadata": {},
   "outputs": [],
   "source": [
    "s=input(\"\")\n",
    "c=\"\"\n",
    "for i in range (0,len(s),2):\n",
    " c=c+s[i]\n",
    "print(c)"
   ]
  },
  {
   "cell_type": "code",
   "execution_count": 13,
   "metadata": {},
   "outputs": [
    {
     "name": "stdout",
     "output_type": "stream",
     "text": [
      "price205\n",
      "164.0\n"
     ]
    }
   ],
   "source": [
    "p = int(input(\"price\"))\n",
    "if (p) in range (0,200,1):\n",
    "  p=int(p)/10*9\n",
    "  print (p)\n",
    "elif p in range (200,500,1):\n",
    "  p=int(p)/10*7\n",
    "  print(p)\n",
    "elif p>500:\n",
    "  p=int(p)/2\n",
    "  print (p)\n",
    "else: \n",
    "  p<200\n",
    "  print (p)\n",
    "    \n",
    "\n"
   ]
  },
  {
   "cell_type": "code",
   "execution_count": null,
   "metadata": {},
   "outputs": [],
   "source": []
  }
 ],
 "metadata": {
  "kernelspec": {
   "display_name": "Python 3",
   "language": "python",
   "name": "python3"
  },
  "language_info": {
   "codemirror_mode": {
    "name": "ipython",
    "version": 3
   },
   "file_extension": ".py",
   "mimetype": "text/x-python",
   "name": "python",
   "nbconvert_exporter": "python",
   "pygments_lexer": "ipython3",
   "version": "3.8.3"
  }
 },
 "nbformat": 4,
 "nbformat_minor": 4
}
