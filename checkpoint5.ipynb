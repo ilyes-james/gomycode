{
 "cells": [
  {
   "cell_type": "markdown",
   "metadata": {},
   "source": [
    "# Q1\n"
   ]
  },
  {
   "cell_type": "code",
   "execution_count": 5,
   "metadata": {},
   "outputs": [
    {
     "name": "stdout",
     "output_type": "stream",
     "text": [
      "first array [ 1  5  9 26 20]\n",
      "[1, 5, 9, 26, 20]\n"
     ]
    }
   ],
   "source": [
    "import numpy as np\n",
    "a=np.array([1,5,9,26,20])\n",
    "print(\"first array\",a)\n",
    "X=a.tolist()\n",
    "print(X)\n"
   ]
  },
  {
   "cell_type": "markdown",
   "metadata": {},
   "source": [
    "# Q2\n"
   ]
  },
  {
   "cell_type": "code",
   "execution_count": 16,
   "metadata": {},
   "outputs": [
    {
     "name": "stdout",
     "output_type": "stream",
     "text": [
      "[[0 3 4]\n",
      " [2 7 1]\n",
      " [8 9 5]]\n",
      "12\n",
      "19\n"
     ]
    }
   ],
   "source": [
    "import numpy as np\n",
    "A=np.array([[0,3,4],[2,7,1],[8,9,5]])\n",
    "print(A)\n",
    "sum=lambda a,b,c:a+b+c\n",
    "a=A[0][0]\n",
    "b=A[1][1]\n",
    "c=A[2][2]\n",
    "print (sum(a,b,c))\n",
    "a=A[2][0]\n",
    "b=A[1][1]\n",
    "c=A[0][2]\n",
    "print (sum(a,b,c))"
   ]
  },
  {
   "cell_type": "markdown",
   "metadata": {},
   "source": [
    "# Q3\n",
    "\n",
    "\n"
   ]
  },
  {
   "cell_type": "code",
   "execution_count": 27,
   "metadata": {},
   "outputs": [
    {
     "name": "stdout",
     "output_type": "stream",
     "text": [
      "[5]\n"
     ]
    }
   ],
   "source": [
    "import numpy as np\n",
    "a = np.array([[1,2],[3,5]])\n",
    "my_list=[]\n",
    "x=4\n",
    "if x<a[0][0]:\n",
    "    my_list.append(a[0][0])\n",
    "elif x<a[0][1]:\n",
    "    my_list.append (a[0][1])\n",
    "elif x<a[1][0]:\n",
    "    my_list.append (a[1][0])\n",
    "elif x<a[1][1]:\n",
    "    my_list.append (a[1][1])\n",
    "print(my_list)"
   ]
  },
  {
   "cell_type": "markdown",
   "metadata": {},
   "source": [
    "# Q4"
   ]
  },
  {
   "cell_type": "code",
   "execution_count": 29,
   "metadata": {},
   "outputs": [
    {
     "name": "stdout",
     "output_type": "stream",
     "text": [
      "[ 5 12 16]\n"
     ]
    }
   ],
   "source": [
    "import numpy as np\n",
    "A=np.array([3,7,9])\n",
    "B=np.array([2,5,7])\n",
    "C=A+B\n",
    "print(C)"
   ]
  },
  {
   "cell_type": "markdown",
   "metadata": {},
   "source": [
    "# Q5"
   ]
  },
  {
   "cell_type": "code",
   "execution_count": 36,
   "metadata": {},
   "outputs": [
    {
     "name": "stdout",
     "output_type": "stream",
     "text": [
      "the mean of first raw is 4.0 and the mean of second raw is 11.0 and the mean of last raw is 6.0\n"
     ]
    }
   ],
   "source": [
    "import numpy as np\n",
    "A=np.array([[2,8,9],[10,22,3],[0,3,6]])\n",
    "m1=(A[0][0]+A[1][0]+A[2][0])/3\n",
    "m2=(A[0][1]+A[1][1]+A[2][1])/3\n",
    "m3=(A[0][2]+A[1][2]+A[2][2])/3\n",
    "print(\"the mean of first raw is\",m1,\"and the mean of second raw is\",m2,\"and the mean of last raw is\",m3)"
   ]
  },
  {
   "cell_type": "code",
   "execution_count": null,
   "metadata": {},
   "outputs": [],
   "source": []
  }
 ],
 "metadata": {
  "kernelspec": {
   "display_name": "Python 3",
   "language": "python",
   "name": "python3"
  },
  "language_info": {
   "codemirror_mode": {
    "name": "ipython",
    "version": 3
   },
   "file_extension": ".py",
   "mimetype": "text/x-python",
   "name": "python",
   "nbconvert_exporter": "python",
   "pygments_lexer": "ipython3",
   "version": "3.8.3"
  }
 },
 "nbformat": 4,
 "nbformat_minor": 4
}
